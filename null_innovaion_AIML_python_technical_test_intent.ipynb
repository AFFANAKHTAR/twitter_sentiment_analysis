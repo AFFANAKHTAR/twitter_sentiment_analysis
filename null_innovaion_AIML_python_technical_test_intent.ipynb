{
 "cells": [
  {
   "cell_type": "markdown",
   "id": "2bc0f24f",
   "metadata": {},
   "source": [
    "# importing libraries"
   ]
  },
  {
   "cell_type": "code",
   "execution_count": 1,
   "id": "05fa609b",
   "metadata": {},
   "outputs": [],
   "source": [
    "import pandas as pd\n",
    "import numpy as np\n",
    "import re\n",
    "import string\n",
    "\n",
    "##methods and stopwords text processing\n",
    "\n",
    "from nltk.corpus import stopwords\n",
    "from nltk.tokenize import word_tokenize\n",
    "from nltk.stem import PorterStemmer\n",
    "from nltk.stem import WordNetLemmatizer\n",
    "from sklearn.feature_extraction.text import TfidfVectorizer\n",
    "from sklearn.model_selection import train_test_split\n",
    "\n",
    "#machine learning libraries\n",
    "from sklearn.metrics import accuracy_score\n",
    "from sklearn.naive_bayes import MultinomialNB\n",
    "from sklearn.linear_model import LogisticRegression\n",
    "from sklearn.svm import SVC\n",
    "\n",
    "import warnings \n",
    "warnings.filterwarnings(\"ignore\")"
   ]
  },
  {
   "cell_type": "code",
   "execution_count": 2,
   "id": "98d4ad6f",
   "metadata": {},
   "outputs": [],
   "source": [
    "tweets_df = pd.read_csv('Tweet_NFT.xlsx - Sheet1.csv') "
   ]
  },
  {
   "cell_type": "code",
   "execution_count": 3,
   "id": "0fe1fa01",
   "metadata": {},
   "outputs": [
    {
     "data": {
      "text/html": [
       "<div>\n",
       "<style scoped>\n",
       "    .dataframe tbody tr th:only-of-type {\n",
       "        vertical-align: middle;\n",
       "    }\n",
       "\n",
       "    .dataframe tbody tr th {\n",
       "        vertical-align: top;\n",
       "    }\n",
       "\n",
       "    .dataframe thead th {\n",
       "        text-align: right;\n",
       "    }\n",
       "</style>\n",
       "<table border=\"1\" class=\"dataframe\">\n",
       "  <thead>\n",
       "    <tr style=\"text-align: right;\">\n",
       "      <th></th>\n",
       "      <th>id</th>\n",
       "      <th>tweet_text</th>\n",
       "      <th>tweet_created_at</th>\n",
       "      <th>tweet_intent</th>\n",
       "    </tr>\n",
       "  </thead>\n",
       "  <tbody>\n",
       "    <tr>\n",
       "      <th>0</th>\n",
       "      <td>1212762</td>\n",
       "      <td>@crypto_brody @eCoLoGy1990 @MoonrunnersNFT @It...</td>\n",
       "      <td>2022-08-06T16:56:36.000Z</td>\n",
       "      <td>Community</td>\n",
       "    </tr>\n",
       "    <tr>\n",
       "      <th>1</th>\n",
       "      <td>1212763</td>\n",
       "      <td>Need Sick Character artâ“#art #artist #Artist...</td>\n",
       "      <td>2022-08-06T16:56:36.000Z</td>\n",
       "      <td>Giveaway</td>\n",
       "    </tr>\n",
       "    <tr>\n",
       "      <th>2</th>\n",
       "      <td>1212765</td>\n",
       "      <td>@The_Hulk_NFT @INagotchiNFT @Tesla @killabears...</td>\n",
       "      <td>2022-08-06T16:56:35.000Z</td>\n",
       "      <td>Appreciation</td>\n",
       "    </tr>\n",
       "    <tr>\n",
       "      <th>3</th>\n",
       "      <td>1212766</td>\n",
       "      <td>@CryptoBatzNFT @DarekBTW The first project in ...</td>\n",
       "      <td>2022-08-06T16:56:35.000Z</td>\n",
       "      <td>Community</td>\n",
       "    </tr>\n",
       "    <tr>\n",
       "      <th>4</th>\n",
       "      <td>1212767</td>\n",
       "      <td>@sashadysonn The first project in crypto with ...</td>\n",
       "      <td>2022-08-06T16:56:34.000Z</td>\n",
       "      <td>Community</td>\n",
       "    </tr>\n",
       "    <tr>\n",
       "      <th>...</th>\n",
       "      <td>...</td>\n",
       "      <td>...</td>\n",
       "      <td>...</td>\n",
       "      <td>...</td>\n",
       "    </tr>\n",
       "    <tr>\n",
       "      <th>127443</th>\n",
       "      <td>1278714</td>\n",
       "      <td>@m4rabbit_nft @M4_MILRAB @ATSNFT ðŸš¨Join Some...</td>\n",
       "      <td>2022-08-08T03:32:04.000Z</td>\n",
       "      <td>NaN</td>\n",
       "    </tr>\n",
       "    <tr>\n",
       "      <th>127444</th>\n",
       "      <td>1278716</td>\n",
       "      <td>@CryptoEmdarks Ape into @FlokiMooni ,ready to ...</td>\n",
       "      <td>2022-08-08T03:32:04.000Z</td>\n",
       "      <td>NaN</td>\n",
       "    </tr>\n",
       "    <tr>\n",
       "      <th>127445</th>\n",
       "      <td>1278717</td>\n",
       "      <td>@OliverV08601162 @Cyberfleet_NFT @elonmusk Why...</td>\n",
       "      <td>2022-08-08T03:32:03.000Z</td>\n",
       "      <td>NaN</td>\n",
       "    </tr>\n",
       "    <tr>\n",
       "      <th>127446</th>\n",
       "      <td>1278718</td>\n",
       "      <td>@AbdurRa33870413 @BarkRik56 @JE_GES @airmmn43 ...</td>\n",
       "      <td>2022-08-08T03:32:02.000Z</td>\n",
       "      <td>NaN</td>\n",
       "    </tr>\n",
       "    <tr>\n",
       "      <th>127447</th>\n",
       "      <td>1278720</td>\n",
       "      <td>this is nugget's nft, kris banner in space htt...</td>\n",
       "      <td>2022-08-08T03:32:01.000Z</td>\n",
       "      <td>NaN</td>\n",
       "    </tr>\n",
       "  </tbody>\n",
       "</table>\n",
       "<p>127448 rows × 4 columns</p>\n",
       "</div>"
      ],
      "text/plain": [
       "             id                                         tweet_text  \\\n",
       "0       1212762  @crypto_brody @eCoLoGy1990 @MoonrunnersNFT @It...   \n",
       "1       1212763  Need Sick Character artâ“#art #artist #Artist...   \n",
       "2       1212765  @The_Hulk_NFT @INagotchiNFT @Tesla @killabears...   \n",
       "3       1212766  @CryptoBatzNFT @DarekBTW The first project in ...   \n",
       "4       1212767  @sashadysonn The first project in crypto with ...   \n",
       "...         ...                                                ...   \n",
       "127443  1278714  @m4rabbit_nft @M4_MILRAB @ATSNFT ðŸš¨Join Some...   \n",
       "127444  1278716  @CryptoEmdarks Ape into @FlokiMooni ,ready to ...   \n",
       "127445  1278717  @OliverV08601162 @Cyberfleet_NFT @elonmusk Why...   \n",
       "127446  1278718  @AbdurRa33870413 @BarkRik56 @JE_GES @airmmn43 ...   \n",
       "127447  1278720  this is nugget's nft, kris banner in space htt...   \n",
       "\n",
       "                tweet_created_at  tweet_intent  \n",
       "0       2022-08-06T16:56:36.000Z     Community  \n",
       "1       2022-08-06T16:56:36.000Z      Giveaway  \n",
       "2       2022-08-06T16:56:35.000Z  Appreciation  \n",
       "3       2022-08-06T16:56:35.000Z     Community  \n",
       "4       2022-08-06T16:56:34.000Z     Community  \n",
       "...                          ...           ...  \n",
       "127443  2022-08-08T03:32:04.000Z           NaN  \n",
       "127444  2022-08-08T03:32:04.000Z           NaN  \n",
       "127445  2022-08-08T03:32:03.000Z           NaN  \n",
       "127446  2022-08-08T03:32:02.000Z           NaN  \n",
       "127447  2022-08-08T03:32:01.000Z           NaN  \n",
       "\n",
       "[127448 rows x 4 columns]"
      ]
     },
     "execution_count": 3,
     "metadata": {},
     "output_type": "execute_result"
    }
   ],
   "source": [
    "tweets_df.head(-5)"
   ]
  },
  {
   "cell_type": "code",
   "execution_count": 4,
   "id": "16ffa46f",
   "metadata": {
    "scrolled": true
   },
   "outputs": [
    {
     "name": "stdout",
     "output_type": "stream",
     "text": [
      "<class 'pandas.core.frame.DataFrame'>\n",
      "RangeIndex: 127453 entries, 0 to 127452\n",
      "Data columns (total 4 columns):\n",
      " #   Column            Non-Null Count   Dtype \n",
      "---  ------            --------------   ----- \n",
      " 0   id                127453 non-null  int64 \n",
      " 1   tweet_text        127453 non-null  object\n",
      " 2   tweet_created_at  127453 non-null  object\n",
      " 3   tweet_intent      96364 non-null   object\n",
      "dtypes: int64(1), object(3)\n",
      "memory usage: 3.9+ MB\n"
     ]
    }
   ],
   "source": [
    "tweets_df.info()"
   ]
  },
  {
   "cell_type": "code",
   "execution_count": 5,
   "id": "f291fc14",
   "metadata": {},
   "outputs": [
    {
     "data": {
      "text/plain": [
       "array(['Community', 'Giveaway', 'Appreciation', 'Presale', 'Whitelist',\n",
       "       'pinksale', 'Done', 'Interested', 'Launching Soon', nan],\n",
       "      dtype=object)"
      ]
     },
     "execution_count": 5,
     "metadata": {},
     "output_type": "execute_result"
    }
   ],
   "source": [
    "tweets_df['tweet_intent'].unique()"
   ]
  },
  {
   "cell_type": "code",
   "execution_count": 6,
   "id": "5524ba6d",
   "metadata": {},
   "outputs": [
    {
     "data": {
      "text/plain": [
       "(127453, 4)"
      ]
     },
     "execution_count": 6,
     "metadata": {},
     "output_type": "execute_result"
    }
   ],
   "source": [
    "tweets_df.shape"
   ]
  },
  {
   "cell_type": "markdown",
   "id": "5a7f62f2",
   "metadata": {},
   "source": [
    "## labelising tweet intent column"
   ]
  },
  {
   "cell_type": "code",
   "execution_count": 7,
   "id": "90761c2f",
   "metadata": {},
   "outputs": [],
   "source": [
    "\n",
    "l=[]\n",
    "for i in tweets_df['tweet_intent']:\n",
    "    if i=='Whitelist':\n",
    "        l.append(9)\n",
    "    elif i=='Appreciation':\n",
    "        l.append(1)\n",
    "    elif i=='Community':\n",
    "        l.append(2)\n",
    "    elif i=='Done':\n",
    "        l.append(3)\n",
    "    elif i=='Giveaway':\n",
    "        l.append(4)\n",
    "    elif i=='Interested':\n",
    "        l.append(5)\n",
    "    elif i=='Launching Soon':\n",
    "        l.append(6)\n",
    "    elif i=='pinksale':\n",
    "        l.append(7)\n",
    "    elif i=='Presale':\n",
    "        l.append(8)\n",
    "    else:\n",
    "        l.append(0)\n",
    "        \n",
    "tweets_df['tweet_intent']=l"
   ]
  },
  {
   "cell_type": "code",
   "execution_count": 8,
   "id": "35e3425a",
   "metadata": {},
   "outputs": [
    {
     "data": {
      "text/html": [
       "<div>\n",
       "<style scoped>\n",
       "    .dataframe tbody tr th:only-of-type {\n",
       "        vertical-align: middle;\n",
       "    }\n",
       "\n",
       "    .dataframe tbody tr th {\n",
       "        vertical-align: top;\n",
       "    }\n",
       "\n",
       "    .dataframe thead th {\n",
       "        text-align: right;\n",
       "    }\n",
       "</style>\n",
       "<table border=\"1\" class=\"dataframe\">\n",
       "  <thead>\n",
       "    <tr style=\"text-align: right;\">\n",
       "      <th></th>\n",
       "      <th>id</th>\n",
       "      <th>tweet_text</th>\n",
       "      <th>tweet_created_at</th>\n",
       "      <th>tweet_intent</th>\n",
       "    </tr>\n",
       "  </thead>\n",
       "  <tbody>\n",
       "    <tr>\n",
       "      <th>0</th>\n",
       "      <td>1212762</td>\n",
       "      <td>@crypto_brody @eCoLoGy1990 @MoonrunnersNFT @It...</td>\n",
       "      <td>2022-08-06T16:56:36.000Z</td>\n",
       "      <td>2</td>\n",
       "    </tr>\n",
       "    <tr>\n",
       "      <th>1</th>\n",
       "      <td>1212763</td>\n",
       "      <td>Need Sick Character artâ“#art #artist #Artist...</td>\n",
       "      <td>2022-08-06T16:56:36.000Z</td>\n",
       "      <td>4</td>\n",
       "    </tr>\n",
       "    <tr>\n",
       "      <th>2</th>\n",
       "      <td>1212765</td>\n",
       "      <td>@The_Hulk_NFT @INagotchiNFT @Tesla @killabears...</td>\n",
       "      <td>2022-08-06T16:56:35.000Z</td>\n",
       "      <td>1</td>\n",
       "    </tr>\n",
       "    <tr>\n",
       "      <th>3</th>\n",
       "      <td>1212766</td>\n",
       "      <td>@CryptoBatzNFT @DarekBTW The first project in ...</td>\n",
       "      <td>2022-08-06T16:56:35.000Z</td>\n",
       "      <td>2</td>\n",
       "    </tr>\n",
       "    <tr>\n",
       "      <th>4</th>\n",
       "      <td>1212767</td>\n",
       "      <td>@sashadysonn The first project in crypto with ...</td>\n",
       "      <td>2022-08-06T16:56:34.000Z</td>\n",
       "      <td>2</td>\n",
       "    </tr>\n",
       "    <tr>\n",
       "      <th>...</th>\n",
       "      <td>...</td>\n",
       "      <td>...</td>\n",
       "      <td>...</td>\n",
       "      <td>...</td>\n",
       "    </tr>\n",
       "    <tr>\n",
       "      <th>127443</th>\n",
       "      <td>1278714</td>\n",
       "      <td>@m4rabbit_nft @M4_MILRAB @ATSNFT ðŸš¨Join Some...</td>\n",
       "      <td>2022-08-08T03:32:04.000Z</td>\n",
       "      <td>0</td>\n",
       "    </tr>\n",
       "    <tr>\n",
       "      <th>127444</th>\n",
       "      <td>1278716</td>\n",
       "      <td>@CryptoEmdarks Ape into @FlokiMooni ,ready to ...</td>\n",
       "      <td>2022-08-08T03:32:04.000Z</td>\n",
       "      <td>0</td>\n",
       "    </tr>\n",
       "    <tr>\n",
       "      <th>127445</th>\n",
       "      <td>1278717</td>\n",
       "      <td>@OliverV08601162 @Cyberfleet_NFT @elonmusk Why...</td>\n",
       "      <td>2022-08-08T03:32:03.000Z</td>\n",
       "      <td>0</td>\n",
       "    </tr>\n",
       "    <tr>\n",
       "      <th>127446</th>\n",
       "      <td>1278718</td>\n",
       "      <td>@AbdurRa33870413 @BarkRik56 @JE_GES @airmmn43 ...</td>\n",
       "      <td>2022-08-08T03:32:02.000Z</td>\n",
       "      <td>0</td>\n",
       "    </tr>\n",
       "    <tr>\n",
       "      <th>127447</th>\n",
       "      <td>1278720</td>\n",
       "      <td>this is nugget's nft, kris banner in space htt...</td>\n",
       "      <td>2022-08-08T03:32:01.000Z</td>\n",
       "      <td>0</td>\n",
       "    </tr>\n",
       "  </tbody>\n",
       "</table>\n",
       "<p>127448 rows × 4 columns</p>\n",
       "</div>"
      ],
      "text/plain": [
       "             id                                         tweet_text  \\\n",
       "0       1212762  @crypto_brody @eCoLoGy1990 @MoonrunnersNFT @It...   \n",
       "1       1212763  Need Sick Character artâ“#art #artist #Artist...   \n",
       "2       1212765  @The_Hulk_NFT @INagotchiNFT @Tesla @killabears...   \n",
       "3       1212766  @CryptoBatzNFT @DarekBTW The first project in ...   \n",
       "4       1212767  @sashadysonn The first project in crypto with ...   \n",
       "...         ...                                                ...   \n",
       "127443  1278714  @m4rabbit_nft @M4_MILRAB @ATSNFT ðŸš¨Join Some...   \n",
       "127444  1278716  @CryptoEmdarks Ape into @FlokiMooni ,ready to ...   \n",
       "127445  1278717  @OliverV08601162 @Cyberfleet_NFT @elonmusk Why...   \n",
       "127446  1278718  @AbdurRa33870413 @BarkRik56 @JE_GES @airmmn43 ...   \n",
       "127447  1278720  this is nugget's nft, kris banner in space htt...   \n",
       "\n",
       "                tweet_created_at  tweet_intent  \n",
       "0       2022-08-06T16:56:36.000Z             2  \n",
       "1       2022-08-06T16:56:36.000Z             4  \n",
       "2       2022-08-06T16:56:35.000Z             1  \n",
       "3       2022-08-06T16:56:35.000Z             2  \n",
       "4       2022-08-06T16:56:34.000Z             2  \n",
       "...                          ...           ...  \n",
       "127443  2022-08-08T03:32:04.000Z             0  \n",
       "127444  2022-08-08T03:32:04.000Z             0  \n",
       "127445  2022-08-08T03:32:03.000Z             0  \n",
       "127446  2022-08-08T03:32:02.000Z             0  \n",
       "127447  2022-08-08T03:32:01.000Z             0  \n",
       "\n",
       "[127448 rows x 4 columns]"
      ]
     },
     "execution_count": 8,
     "metadata": {},
     "output_type": "execute_result"
    }
   ],
   "source": [
    "tweets_df.head(-5)"
   ]
  },
  {
   "cell_type": "code",
   "execution_count": 9,
   "id": "0c06d6e5",
   "metadata": {},
   "outputs": [
    {
     "data": {
      "text/plain": [
       "id                  0\n",
       "tweet_text          0\n",
       "tweet_created_at    0\n",
       "tweet_intent        0\n",
       "dtype: int64"
      ]
     },
     "execution_count": 9,
     "metadata": {},
     "output_type": "execute_result"
    }
   ],
   "source": [
    "tweets_df.isna().sum()"
   ]
  },
  {
   "cell_type": "code",
   "execution_count": 10,
   "id": "40db3685",
   "metadata": {},
   "outputs": [
    {
     "data": {
      "text/plain": [
       "array([[<AxesSubplot:title={'center':'id'}>,\n",
       "        <AxesSubplot:title={'center':'tweet_intent'}>]], dtype=object)"
      ]
     },
     "execution_count": 10,
     "metadata": {},
     "output_type": "execute_result"
    },
    {
     "data": {
      "image/png": "[encoded data removed]",
      "text/plain": [
       "<Figure size 936x360 with 2 Axes>"
      ]
     },
     "metadata": {
      "needs_background": "light"
     },
     "output_type": "display_data"
    }
   ],
   "source": [
    "#explore dataset\n",
    "tweets_df.hist(figsize=(13,5), color = 'r')"
   ]
  },
  {
   "cell_type": "markdown",
   "id": "cf90774a",
   "metadata": {},
   "source": [
    "## ENGLISH STOPWORDS"
   ]
  },
  {
   "cell_type": "markdown",
   "id": "ff6265a9",
   "metadata": {},
   "source": [
    "### CREATING A STOPWORD TEXT"
   ]
  },
  {
   "cell_type": "code",
   "execution_count": 11,
   "id": "bc5142e0",
   "metadata": {},
   "outputs": [
    {
     "name": "stderr",
     "output_type": "stream",
     "text": [
      "[nltk_data] Downloading package stopwords to\n",
      "[nltk_data]     C:\\Users\\AFFAN\\AppData\\Roaming\\nltk_data...\n",
      "[nltk_data]   Package stopwords is already up-to-date!\n"
     ]
    }
   ],
   "source": [
    "import nltk\n",
    "nltk.download('stopwords')\n",
    "stop_words = set(stopwords.words('english'))"
   ]
  },
  {
   "cell_type": "code",
   "execution_count": 12,
   "id": "39fb36e5",
   "metadata": {},
   "outputs": [
    {
     "name": "stderr",
     "output_type": "stream",
     "text": [
      "[nltk_data] Downloading package wordnet to\n",
      "[nltk_data]     C:\\Users\\AFFAN\\AppData\\Roaming\\nltk_data...\n",
      "[nltk_data]   Package wordnet is already up-to-date!\n"
     ]
    },
    {
     "data": {
      "text/plain": [
       "True"
      ]
     },
     "execution_count": 12,
     "metadata": {},
     "output_type": "execute_result"
    }
   ],
   "source": [
    "nltk.download('wordnet')"
   ]
  },
  {
   "cell_type": "markdown",
   "id": "080e045c",
   "metadata": {},
   "source": [
    "### preprocessing the text tweet"
   ]
  },
  {
   "cell_type": "code",
   "execution_count": 13,
   "id": "6c2a4b39",
   "metadata": {},
   "outputs": [],
   "source": [
    "def preprocess_tweet_text(tweet):\n",
    "    #convert the text to lowercase\n",
    "    tweet = tweet.lower()\n",
    "    \n",
    "    #remove any urls\n",
    "    tweet = re.sub(r\"http\\S+|www\\S+|https\\S+\",\"\",tweet, flags=re.MULTILINE)\n",
    "    \n",
    "    #remove punctutaion\n",
    "    tweet = tweet.translate(str.maketrans(\"\",\"\", string.punctuation))\n",
    "    \n",
    "    #remove user @ references and '#' from tweet \n",
    "    tweet = re.sub(r'\\@\\w+|\\#',\"\",tweet)\n",
    "    \n",
    "    #remove stopwords\n",
    "    tweet_tokens = word_tokenize(tweet)\n",
    "    filtered_words = [word for word in tweet_tokens if word not in stop_words]\n",
    "    \n",
    "    #stemming\n",
    "    ps = PorterStemmer()\n",
    "    stemmed_words = [ps.stem(w) for w in filtered_words]\n",
    "    \n",
    "    #lemmatizing\n",
    "    lemmatizer = WordNetLemmatizer()\n",
    "    lemma_words = [lemmatizer.lemmatize(w, pos='a') for w in stemmed_words]\n",
    "    \n",
    "    return \" \".join(lemma_words)\n",
    "    "
   ]
  },
  {
   "cell_type": "markdown",
   "id": "e503df1a",
   "metadata": {},
   "source": [
    "## splitting data with intent or data with missing intent"
   ]
  },
  {
   "cell_type": "code",
   "execution_count": 14,
   "id": "ed85309a",
   "metadata": {},
   "outputs": [],
   "source": [
    "tweets_df1, tweets_df2 = [x for _, x in tweets_df.groupby(tweets_df['tweet_intent'] ==0)]"
   ]
  },
  {
   "cell_type": "code",
   "execution_count": 15,
   "id": "8ace7244",
   "metadata": {},
   "outputs": [
    {
     "data": {
      "text/html": [
       "<div>\n",
       "<style scoped>\n",
       "    .dataframe tbody tr th:only-of-type {\n",
       "        vertical-align: middle;\n",
       "    }\n",
       "\n",
       "    .dataframe tbody tr th {\n",
       "        vertical-align: top;\n",
       "    }\n",
       "\n",
       "    .dataframe thead th {\n",
       "        text-align: right;\n",
       "    }\n",
       "</style>\n",
       "<table border=\"1\" class=\"dataframe\">\n",
       "  <thead>\n",
       "    <tr style=\"text-align: right;\">\n",
       "      <th></th>\n",
       "      <th>id</th>\n",
       "      <th>tweet_text</th>\n",
       "      <th>tweet_created_at</th>\n",
       "      <th>tweet_intent</th>\n",
       "    </tr>\n",
       "  </thead>\n",
       "  <tbody>\n",
       "    <tr>\n",
       "      <th>0</th>\n",
       "      <td>1212762</td>\n",
       "      <td>@crypto_brody @eCoLoGy1990 @MoonrunnersNFT @It...</td>\n",
       "      <td>2022-08-06T16:56:36.000Z</td>\n",
       "      <td>2</td>\n",
       "    </tr>\n",
       "    <tr>\n",
       "      <th>1</th>\n",
       "      <td>1212763</td>\n",
       "      <td>Need Sick Character artâ“#art #artist #Artist...</td>\n",
       "      <td>2022-08-06T16:56:36.000Z</td>\n",
       "      <td>4</td>\n",
       "    </tr>\n",
       "    <tr>\n",
       "      <th>2</th>\n",
       "      <td>1212765</td>\n",
       "      <td>@The_Hulk_NFT @INagotchiNFT @Tesla @killabears...</td>\n",
       "      <td>2022-08-06T16:56:35.000Z</td>\n",
       "      <td>1</td>\n",
       "    </tr>\n",
       "    <tr>\n",
       "      <th>3</th>\n",
       "      <td>1212766</td>\n",
       "      <td>@CryptoBatzNFT @DarekBTW The first project in ...</td>\n",
       "      <td>2022-08-06T16:56:35.000Z</td>\n",
       "      <td>2</td>\n",
       "    </tr>\n",
       "    <tr>\n",
       "      <th>4</th>\n",
       "      <td>1212767</td>\n",
       "      <td>@sashadysonn The first project in crypto with ...</td>\n",
       "      <td>2022-08-06T16:56:34.000Z</td>\n",
       "      <td>2</td>\n",
       "    </tr>\n",
       "    <tr>\n",
       "      <th>...</th>\n",
       "      <td>...</td>\n",
       "      <td>...</td>\n",
       "      <td>...</td>\n",
       "      <td>...</td>\n",
       "    </tr>\n",
       "    <tr>\n",
       "      <th>96359</th>\n",
       "      <td>1424490</td>\n",
       "      <td>@nft_cryptogang @liuyan93721534 0x9fE808D8a9E2...</td>\n",
       "      <td>2022-08-11T23:11:58.000Z</td>\n",
       "      <td>1</td>\n",
       "    </tr>\n",
       "    <tr>\n",
       "      <th>96360</th>\n",
       "      <td>1424491</td>\n",
       "      <td>Just registered to win @cryptopunksnfts #1859 ...</td>\n",
       "      <td>2022-08-11T23:11:58.000Z</td>\n",
       "      <td>8</td>\n",
       "    </tr>\n",
       "    <tr>\n",
       "      <th>96361</th>\n",
       "      <td>1424494</td>\n",
       "      <td>@SolSniffer Dyor on the nft collection \"Dictat...</td>\n",
       "      <td>2022-08-11T23:11:58.000Z</td>\n",
       "      <td>1</td>\n",
       "    </tr>\n",
       "    <tr>\n",
       "      <th>96362</th>\n",
       "      <td>1424497</td>\n",
       "      <td>#NFT #NFTCommmunity #DeltaFlare\\nJoin me on Di...</td>\n",
       "      <td>2022-08-11T23:11:56.000Z</td>\n",
       "      <td>2</td>\n",
       "    </tr>\n",
       "    <tr>\n",
       "      <th>96363</th>\n",
       "      <td>1424498</td>\n",
       "      <td>@DuckBathing @diozoth @elonmusk @richerd @John...</td>\n",
       "      <td>2022-08-11T23:11:56.000Z</td>\n",
       "      <td>1</td>\n",
       "    </tr>\n",
       "  </tbody>\n",
       "</table>\n",
       "<p>96364 rows × 4 columns</p>\n",
       "</div>"
      ],
      "text/plain": [
       "            id                                         tweet_text  \\\n",
       "0      1212762  @crypto_brody @eCoLoGy1990 @MoonrunnersNFT @It...   \n",
       "1      1212763  Need Sick Character artâ“#art #artist #Artist...   \n",
       "2      1212765  @The_Hulk_NFT @INagotchiNFT @Tesla @killabears...   \n",
       "3      1212766  @CryptoBatzNFT @DarekBTW The first project in ...   \n",
       "4      1212767  @sashadysonn The first project in crypto with ...   \n",
       "...        ...                                                ...   \n",
       "96359  1424490  @nft_cryptogang @liuyan93721534 0x9fE808D8a9E2...   \n",
       "96360  1424491  Just registered to win @cryptopunksnfts #1859 ...   \n",
       "96361  1424494  @SolSniffer Dyor on the nft collection \"Dictat...   \n",
       "96362  1424497  #NFT #NFTCommmunity #DeltaFlare\\nJoin me on Di...   \n",
       "96363  1424498  @DuckBathing @diozoth @elonmusk @richerd @John...   \n",
       "\n",
       "               tweet_created_at  tweet_intent  \n",
       "0      2022-08-06T16:56:36.000Z             2  \n",
       "1      2022-08-06T16:56:36.000Z             4  \n",
       "2      2022-08-06T16:56:35.000Z             1  \n",
       "3      2022-08-06T16:56:35.000Z             2  \n",
       "4      2022-08-06T16:56:34.000Z             2  \n",
       "...                         ...           ...  \n",
       "96359  2022-08-11T23:11:58.000Z             1  \n",
       "96360  2022-08-11T23:11:58.000Z             8  \n",
       "96361  2022-08-11T23:11:58.000Z             1  \n",
       "96362  2022-08-11T23:11:56.000Z             2  \n",
       "96363  2022-08-11T23:11:56.000Z             1  \n",
       "\n",
       "[96364 rows x 4 columns]"
      ]
     },
     "execution_count": 15,
     "metadata": {},
     "output_type": "execute_result"
    }
   ],
   "source": [
    "tweets_df1"
   ]
  },
  {
   "cell_type": "code",
   "execution_count": 16,
   "id": "5ece5dfa",
   "metadata": {},
   "outputs": [
    {
     "data": {
      "text/html": [
       "<div>\n",
       "<style scoped>\n",
       "    .dataframe tbody tr th:only-of-type {\n",
       "        vertical-align: middle;\n",
       "    }\n",
       "\n",
       "    .dataframe tbody tr th {\n",
       "        vertical-align: top;\n",
       "    }\n",
       "\n",
       "    .dataframe thead th {\n",
       "        text-align: right;\n",
       "    }\n",
       "</style>\n",
       "<table border=\"1\" class=\"dataframe\">\n",
       "  <thead>\n",
       "    <tr style=\"text-align: right;\">\n",
       "      <th></th>\n",
       "      <th>id</th>\n",
       "      <th>tweet_text</th>\n",
       "      <th>tweet_created_at</th>\n",
       "      <th>tweet_intent</th>\n",
       "    </tr>\n",
       "  </thead>\n",
       "  <tbody>\n",
       "    <tr>\n",
       "      <th>96364</th>\n",
       "      <td>1212764</td>\n",
       "      <td>15% off ðŸ§™â€â™‚ï¸ #Wizardia NFTs - it's a ...</td>\n",
       "      <td>2022-08-06T16:56:35.000Z</td>\n",
       "      <td>0</td>\n",
       "    </tr>\n",
       "    <tr>\n",
       "      <th>96365</th>\n",
       "      <td>1212770</td>\n",
       "      <td>@asksabir007 @dao_lm Don't miss the chance to ...</td>\n",
       "      <td>2022-08-06T16:56:33.000Z</td>\n",
       "      <td>0</td>\n",
       "    </tr>\n",
       "    <tr>\n",
       "      <th>96366</th>\n",
       "      <td>1212773</td>\n",
       "      <td>This zesty faucet from @_bitcoiner is making m...</td>\n",
       "      <td>2022-08-06T16:56:33.000Z</td>\n",
       "      <td>0</td>\n",
       "    </tr>\n",
       "    <tr>\n",
       "      <th>96367</th>\n",
       "      <td>1212804</td>\n",
       "      <td>15% off ðŸ§™â€â™‚ï¸ #Wizardia NFTs - it's a ...</td>\n",
       "      <td>2022-08-06T16:56:23.000Z</td>\n",
       "      <td>0</td>\n",
       "    </tr>\n",
       "    <tr>\n",
       "      <th>96368</th>\n",
       "      <td>1212776</td>\n",
       "      <td>@Kavaboy_NFT @tanya_4d Message me, letâ€™s tal...</td>\n",
       "      <td>2022-08-06T16:56:32.000Z</td>\n",
       "      <td>0</td>\n",
       "    </tr>\n",
       "    <tr>\n",
       "      <th>...</th>\n",
       "      <td>...</td>\n",
       "      <td>...</td>\n",
       "      <td>...</td>\n",
       "      <td>...</td>\n",
       "    </tr>\n",
       "    <tr>\n",
       "      <th>127448</th>\n",
       "      <td>1278721</td>\n",
       "      <td>@Jason My company Universe is solving this, an...</td>\n",
       "      <td>2022-08-08T03:32:01.000Z</td>\n",
       "      <td>0</td>\n",
       "    </tr>\n",
       "    <tr>\n",
       "      <th>127449</th>\n",
       "      <td>1278723</td>\n",
       "      <td>@BosoTokyo Many will get rekt in this NFT</td>\n",
       "      <td>2022-08-08T03:32:00.000Z</td>\n",
       "      <td>0</td>\n",
       "    </tr>\n",
       "    <tr>\n",
       "      <th>127450</th>\n",
       "      <td>1278724</td>\n",
       "      <td>@leeneedham81 @KibaInuWorld @HODL_OFFICIAL @Ko...</td>\n",
       "      <td>2022-08-08T03:32:00.000Z</td>\n",
       "      <td>0</td>\n",
       "    </tr>\n",
       "    <tr>\n",
       "      <th>127451</th>\n",
       "      <td>1278725</td>\n",
       "      <td>@1kz3ro @UNLEASHED_NFT I love this job</td>\n",
       "      <td>2022-08-08T03:31:59.000Z</td>\n",
       "      <td>0</td>\n",
       "    </tr>\n",
       "    <tr>\n",
       "      <th>127452</th>\n",
       "      <td>1278729</td>\n",
       "      <td>@Shill_Ronin @UNLEASHED_NFT my proof https://t...</td>\n",
       "      <td>2022-08-08T03:31:58.000Z</td>\n",
       "      <td>0</td>\n",
       "    </tr>\n",
       "  </tbody>\n",
       "</table>\n",
       "<p>31089 rows × 4 columns</p>\n",
       "</div>"
      ],
      "text/plain": [
       "             id                                         tweet_text  \\\n",
       "96364   1212764  15% off ðŸ§™â€â™‚ï¸ #Wizardia NFTs - it's a ...   \n",
       "96365   1212770  @asksabir007 @dao_lm Don't miss the chance to ...   \n",
       "96366   1212773  This zesty faucet from @_bitcoiner is making m...   \n",
       "96367   1212804  15% off ðŸ§™â€â™‚ï¸ #Wizardia NFTs - it's a ...   \n",
       "96368   1212776  @Kavaboy_NFT @tanya_4d Message me, letâ€™s tal...   \n",
       "...         ...                                                ...   \n",
       "127448  1278721  @Jason My company Universe is solving this, an...   \n",
       "127449  1278723          @BosoTokyo Many will get rekt in this NFT   \n",
       "127450  1278724  @leeneedham81 @KibaInuWorld @HODL_OFFICIAL @Ko...   \n",
       "127451  1278725             @1kz3ro @UNLEASHED_NFT I love this job   \n",
       "127452  1278729  @Shill_Ronin @UNLEASHED_NFT my proof https://t...   \n",
       "\n",
       "                tweet_created_at  tweet_intent  \n",
       "96364   2022-08-06T16:56:35.000Z             0  \n",
       "96365   2022-08-06T16:56:33.000Z             0  \n",
       "96366   2022-08-06T16:56:33.000Z             0  \n",
       "96367   2022-08-06T16:56:23.000Z             0  \n",
       "96368   2022-08-06T16:56:32.000Z             0  \n",
       "...                          ...           ...  \n",
       "127448  2022-08-08T03:32:01.000Z             0  \n",
       "127449  2022-08-08T03:32:00.000Z             0  \n",
       "127450  2022-08-08T03:32:00.000Z             0  \n",
       "127451  2022-08-08T03:31:59.000Z             0  \n",
       "127452  2022-08-08T03:31:58.000Z             0  \n",
       "\n",
       "[31089 rows x 4 columns]"
      ]
     },
     "execution_count": 16,
     "metadata": {},
     "output_type": "execute_result"
    }
   ],
   "source": [
    "tweets_df2"
   ]
  },
  {
   "cell_type": "code",
   "execution_count": 17,
   "id": "c84d4a14",
   "metadata": {},
   "outputs": [],
   "source": [
    "tweets_df1['tweet_text'] = tweets_df1['tweet_text'].apply(preprocess_tweet_text)\n",
    "tweets_df2['tweet_text'] = tweets_df2['tweet_text'].apply(preprocess_tweet_text)"
   ]
  },
  {
   "cell_type": "code",
   "execution_count": null,
   "id": "d005eff6",
   "metadata": {},
   "outputs": [],
   "source": []
  },
  {
   "cell_type": "code",
   "execution_count": 18,
   "id": "a7fd325b",
   "metadata": {},
   "outputs": [
    {
     "name": "stdout",
     "output_type": "stream",
     "text": [
      "            id                                         tweet_text  \\\n",
      "0      1212762  cryptobrodi ecology1990 moonrunnersnft itsukin...   \n",
      "1      1212763  need sick charact artâ “ art artist artist an...   \n",
      "2      1212765  thehulknft inagotchinft tesla killabearsnft el...   \n",
      "3      1212766  cryptobatznft darekbtw first project crypto mo...   \n",
      "4      1212767  sashadysonn first project crypto move earn ast...   \n",
      "...        ...                                                ...   \n",
      "96359  1424490  nftcryptogang liuyan93721534 0x9fe808d8a9e2e34...   \n",
      "96360  1424491  regist win cryptopunksnft 1859 blokpax let go ...   \n",
      "96361  1424494  solsniff dyor nft collect dictat theyr builder...   \n",
      "96362  1424497  nft nftcommmun deltaflar join discord join tel...   \n",
      "96363  1424498  duckbath diozoth elonmusk richerd johnnft2 nft...   \n",
      "\n",
      "               tweet_created_at  tweet_intent  \n",
      "0      2022-08-06T16:56:36.000Z             2  \n",
      "1      2022-08-06T16:56:36.000Z             4  \n",
      "2      2022-08-06T16:56:35.000Z             1  \n",
      "3      2022-08-06T16:56:35.000Z             2  \n",
      "4      2022-08-06T16:56:34.000Z             2  \n",
      "...                         ...           ...  \n",
      "96359  2022-08-11T23:11:58.000Z             1  \n",
      "96360  2022-08-11T23:11:58.000Z             8  \n",
      "96361  2022-08-11T23:11:58.000Z             1  \n",
      "96362  2022-08-11T23:11:56.000Z             2  \n",
      "96363  2022-08-11T23:11:56.000Z             1  \n",
      "\n",
      "[96364 rows x 4 columns]\n"
     ]
    }
   ],
   "source": [
    "print(tweets_df1)"
   ]
  },
  {
   "cell_type": "markdown",
   "id": "2f2df9aa",
   "metadata": {},
   "source": [
    "## VECTORIZING TOKENS"
   ]
  },
  {
   "cell_type": "code",
   "execution_count": 19,
   "id": "6507e0d9",
   "metadata": {},
   "outputs": [],
   "source": [
    "from sklearn.feature_extraction.text import CountVectorizer\n",
    "vectorizer = CountVectorizer(analyzer=preprocess_tweet_text)\n",
    "tweets_countvectorizer = vectorizer.fit_transform(tweets_df1['tweet_text']).toarray()\n",
    "tweets_countvectorizer2 = vectorizer.fit_transform(tweets_df2['tweet_text']).toarray()"
   ]
  },
  {
   "cell_type": "code",
   "execution_count": 20,
   "id": "1c1595f8",
   "metadata": {
    "scrolled": true
   },
   "outputs": [
    {
     "data": {
      "text/plain": [
       "(96364, 118)"
      ]
     },
     "execution_count": 20,
     "metadata": {},
     "output_type": "execute_result"
    }
   ],
   "source": [
    "tweets_countvectorizer.shape"
   ]
  },
  {
   "cell_type": "code",
   "execution_count": 21,
   "id": "892ac3cf",
   "metadata": {},
   "outputs": [
    {
     "data": {
      "text/plain": [
       "(31089, 119)"
      ]
     },
     "execution_count": 21,
     "metadata": {},
     "output_type": "execute_result"
    }
   ],
   "source": [
    "tweets_countvectorizer2.shape"
   ]
  },
  {
   "cell_type": "code",
   "execution_count": 22,
   "id": "9c1305c5",
   "metadata": {},
   "outputs": [],
   "source": [
    "X = tweets_countvectorizer"
   ]
  },
  {
   "cell_type": "code",
   "execution_count": 23,
   "id": "fe34184e",
   "metadata": {},
   "outputs": [],
   "source": [
    "y = tweets_df1['tweet_intent']"
   ]
  },
  {
   "cell_type": "markdown",
   "id": "b8624b2a",
   "metadata": {},
   "source": [
    "### train test split"
   ]
  },
  {
   "cell_type": "code",
   "execution_count": 24,
   "id": "5839ed2a",
   "metadata": {},
   "outputs": [],
   "source": [
    "from sklearn.model_selection import train_test_split\n",
    "X_train, X_test, y_train, y_test = train_test_split(X, y, test_size=0.2)"
   ]
  },
  {
   "cell_type": "code",
   "execution_count": 25,
   "id": "8c6926b2",
   "metadata": {},
   "outputs": [
    {
     "name": "stdout",
     "output_type": "stream",
     "text": [
      "(96364, 118) (77091, 118) (19273, 118)\n"
     ]
    }
   ],
   "source": [
    "print(X.shape, X_train.shape, X_test.shape)"
   ]
  },
  {
   "cell_type": "markdown",
   "id": "129b8b6d",
   "metadata": {},
   "source": [
    "## model trainning"
   ]
  },
  {
   "cell_type": "code",
   "execution_count": 26,
   "id": "505f1961",
   "metadata": {
    "scrolled": true
   },
   "outputs": [
    {
     "data": {
      "text/plain": [
       "MultinomialNB()"
      ]
     },
     "execution_count": 26,
     "metadata": {},
     "output_type": "execute_result"
    }
   ],
   "source": [
    "from sklearn.naive_bayes import MultinomialNB\n",
    "NB_classifier = MultinomialNB()\n",
    "NB_classifier.fit(X_train, y_train)"
   ]
  },
  {
   "cell_type": "code",
   "execution_count": 27,
   "id": "ca39f661",
   "metadata": {},
   "outputs": [],
   "source": [
    "from sklearn.metrics import classification_report, confusion_matrix"
   ]
  },
  {
   "cell_type": "code",
   "execution_count": 28,
   "id": "4601b8c8",
   "metadata": {},
   "outputs": [],
   "source": [
    "#predicting the test results\n",
    "y_predict_test = NB_classifier.predict(X_test)"
   ]
  },
  {
   "cell_type": "code",
   "execution_count": 29,
   "id": "dfbfed3d",
   "metadata": {},
   "outputs": [
    {
     "name": "stdout",
     "output_type": "stream",
     "text": [
      "[2 2 2 ... 4 1 1]\n"
     ]
    }
   ],
   "source": [
    "print(y_predict_test)"
   ]
  },
  {
   "cell_type": "code",
   "execution_count": 30,
   "id": "53283dbd",
   "metadata": {},
   "outputs": [
    {
     "data": {
      "application/javascript": [
       "\n",
       "        if (window._pyforest_update_imports_cell) { window._pyforest_update_imports_cell('from sklearn import metrics'); }\n",
       "    "
      ],
      "text/plain": [
       "<IPython.core.display.Javascript object>"
      ]
     },
     "metadata": {},
     "output_type": "display_data"
    }
   ],
   "source": [
    "#r squared value\n",
    "r2_test = metrics.r2_score(y_test, y_predict_test)"
   ]
  },
  {
   "cell_type": "code",
   "execution_count": 31,
   "id": "17ea2ff9",
   "metadata": {},
   "outputs": [
    {
     "data": {
      "text/plain": [
       "0.09012474627211464"
      ]
     },
     "execution_count": 31,
     "metadata": {},
     "output_type": "execute_result"
    }
   ],
   "source": [
    "r2_test"
   ]
  },
  {
   "cell_type": "code",
   "execution_count": 32,
   "id": "5f5d0c57",
   "metadata": {},
   "outputs": [
    {
     "data": {
      "application/javascript": [
       "\n",
       "        if (window._pyforest_update_imports_cell) { window._pyforest_update_imports_cell('import seaborn as sns\\nfrom sklearn import metrics'); }\n",
       "    "
      ],
      "text/plain": [
       "<IPython.core.display.Javascript object>"
      ]
     },
     "metadata": {},
     "output_type": "display_data"
    },
    {
     "data": {
      "text/plain": [
       "<AxesSubplot:>"
      ]
     },
     "execution_count": 32,
     "metadata": {},
     "output_type": "execute_result"
    },
    {
     "data": {
      "image/png": "[encoded data removed]",
      "text/plain": [
       "<Figure size 432x288 with 2 Axes>"
      ]
     },
     "metadata": {
      "needs_background": "light"
     },
     "output_type": "display_data"
    }
   ],
   "source": [
    "cm = confusion_matrix(y_test, y_predict_test)\n",
    "sns.heatmap(cm, annot=True)"
   ]
  },
  {
   "cell_type": "code",
   "execution_count": 33,
   "id": "0ec49daf",
   "metadata": {},
   "outputs": [
    {
     "name": "stdout",
     "output_type": "stream",
     "text": [
      "              precision    recall  f1-score   support\n",
      "\n",
      "           1       0.46      0.40      0.43      3319\n",
      "           2       0.70      0.81      0.75      8298\n",
      "           3       0.39      0.23      0.29       684\n",
      "           4       0.60      0.48      0.53      4152\n",
      "           5       0.02      0.13      0.04        61\n",
      "           6       0.04      0.75      0.08        24\n",
      "           7       0.57      0.78      0.66        88\n",
      "           8       0.80      0.80      0.80      1002\n",
      "           9       0.54      0.36      0.43      1645\n",
      "\n",
      "    accuracy                           0.61     19273\n",
      "   macro avg       0.46      0.53      0.45     19273\n",
      "weighted avg       0.61      0.61      0.60     19273\n",
      "\n"
     ]
    }
   ],
   "source": [
    "print(classification_report(y_test,y_predict_test))"
   ]
  },
  {
   "cell_type": "markdown",
   "id": "4f436241",
   "metadata": {},
   "source": [
    "### predicting data with missing intents"
   ]
  },
  {
   "cell_type": "code",
   "execution_count": 34,
   "id": "4cd576d1",
   "metadata": {},
   "outputs": [],
   "source": [
    "Y = tweets_countvectorizer2[:,:118]"
   ]
  },
  {
   "cell_type": "code",
   "execution_count": 35,
   "id": "6bb70fe4",
   "metadata": {},
   "outputs": [],
   "source": [
    "y_predict_test2 = NB_classifier.predict(Y)"
   ]
  },
  {
   "cell_type": "code",
   "execution_count": 36,
   "id": "db068484",
   "metadata": {},
   "outputs": [
    {
     "name": "stdout",
     "output_type": "stream",
     "text": [
      "[4 2 1 ... 1 1 2]\n"
     ]
    }
   ],
   "source": [
    "print(y_predict_test2)"
   ]
  },
  {
   "cell_type": "code",
   "execution_count": 37,
   "id": "69cde157",
   "metadata": {},
   "outputs": [
    {
     "data": {
      "text/plain": [
       "(31089,)"
      ]
     },
     "execution_count": 37,
     "metadata": {},
     "output_type": "execute_result"
    }
   ],
   "source": [
    "y_predict_test2.shape"
   ]
  },
  {
   "cell_type": "code",
   "execution_count": 38,
   "id": "054f5bf6",
   "metadata": {},
   "outputs": [],
   "source": [
    "results = pd.DataFrame()\n",
    "results['id'] = tweets_df2['id']\n",
    "results['tweet_intent'] = y_predict_test2"
   ]
  },
  {
   "cell_type": "code",
   "execution_count": 39,
   "id": "d669a4f5",
   "metadata": {
    "scrolled": true
   },
   "outputs": [
    {
     "data": {
      "text/html": [
       "<div>\n",
       "<style scoped>\n",
       "    .dataframe tbody tr th:only-of-type {\n",
       "        vertical-align: middle;\n",
       "    }\n",
       "\n",
       "    .dataframe tbody tr th {\n",
       "        vertical-align: top;\n",
       "    }\n",
       "\n",
       "    .dataframe thead th {\n",
       "        text-align: right;\n",
       "    }\n",
       "</style>\n",
       "<table border=\"1\" class=\"dataframe\">\n",
       "  <thead>\n",
       "    <tr style=\"text-align: right;\">\n",
       "      <th></th>\n",
       "      <th>id</th>\n",
       "      <th>tweet_intent</th>\n",
       "    </tr>\n",
       "  </thead>\n",
       "  <tbody>\n",
       "    <tr>\n",
       "      <th>96364</th>\n",
       "      <td>1212764</td>\n",
       "      <td>4</td>\n",
       "    </tr>\n",
       "    <tr>\n",
       "      <th>96365</th>\n",
       "      <td>1212770</td>\n",
       "      <td>2</td>\n",
       "    </tr>\n",
       "    <tr>\n",
       "      <th>96366</th>\n",
       "      <td>1212773</td>\n",
       "      <td>1</td>\n",
       "    </tr>\n",
       "    <tr>\n",
       "      <th>96367</th>\n",
       "      <td>1212804</td>\n",
       "      <td>4</td>\n",
       "    </tr>\n",
       "    <tr>\n",
       "      <th>96368</th>\n",
       "      <td>1212776</td>\n",
       "      <td>1</td>\n",
       "    </tr>\n",
       "  </tbody>\n",
       "</table>\n",
       "</div>"
      ],
      "text/plain": [
       "            id  tweet_intent\n",
       "96364  1212764             4\n",
       "96365  1212770             2\n",
       "96366  1212773             1\n",
       "96367  1212804             4\n",
       "96368  1212776             1"
      ]
     },
     "execution_count": 39,
     "metadata": {},
     "output_type": "execute_result"
    }
   ],
   "source": [
    "results.head(5)"
   ]
  },
  {
   "cell_type": "code",
   "execution_count": 41,
   "id": "656507bf",
   "metadata": {},
   "outputs": [],
   "source": [
    "results.to_csv('final_results.csv', index=False)"
   ]
  },
  {
   "cell_type": "code",
   "execution_count": null,
   "id": "1d55d6c9",
   "metadata": {},
   "outputs": [],
   "source": []
  }
 ],
 "metadata": {
  "kernelspec": {
   "display_name": "Python 3 (ipykernel)",
   "language": "python",
   "name": "python3"
  },
  "language_info": {
   "codemirror_mode": {
    "name": "ipython",
    "version": 3
   },
   "file_extension": ".py",
   "mimetype": "text/x-python",
   "name": "python",
   "nbconvert_exporter": "python",
   "pygments_lexer": "ipython3",
   "version": "3.8.8"
  }
 },
 "nbformat": 4,
 "nbformat_minor": 5
}
